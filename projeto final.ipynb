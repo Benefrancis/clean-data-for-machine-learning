{
 "nbformat": 4,
 "nbformat_minor": 0,
 "metadata": {
  "colab": {
   "provenance": []
  },
  "kernelspec": {
   "name": "python3",
   "language": "python",
   "display_name": "Python 3 (ipykernel)"
  },
  "language_info": {
   "name": "python"
  }
 },
 "cells": [
  {
   "cell_type": "markdown",
   "source": [
    "# Conhecendo os dados"
   ],
   "metadata": {
    "id": "Ly1-WGXaP33O"
   }
  },
  {
   "cell_type": "code",
   "source": [
    "import pandas as pd"
   ],
   "metadata": {
    "id": "W9qvvbB12e5z",
    "ExecuteTime": {
     "end_time": "2023-12-27T23:33:18.819519400Z",
     "start_time": "2023-12-27T23:33:17.414543500Z"
    }
   },
   "execution_count": 1,
   "outputs": []
  },
  {
   "cell_type": "code",
   "source": [
    "dados_churn = pd.read_json(\"dataset-telecon.json\")\n",
    "dados_churn.head()"
   ],
   "metadata": {
    "colab": {
     "base_uri": "https://localhost:8080/",
     "height": 337
    },
    "id": "BHBJivg4QrQc",
    "outputId": "e0f658eb-f1c8-485b-c75d-9283ae2932fa",
    "ExecuteTime": {
     "end_time": "2023-12-27T23:33:19.536585Z",
     "start_time": "2023-12-27T23:33:17.419559600Z"
    }
   },
   "execution_count": 2,
   "outputs": [
    {
     "ename": "FileNotFoundError",
     "evalue": "File dataset-telecon.json does not exist",
     "output_type": "error",
     "traceback": [
      "\u001B[1;31m---------------------------------------------------------------------------\u001B[0m",
      "\u001B[1;31mFileNotFoundError\u001B[0m                         Traceback (most recent call last)",
      "Cell \u001B[1;32mIn[2], line 1\u001B[0m\n\u001B[1;32m----> 1\u001B[0m dados_churn \u001B[38;5;241m=\u001B[39m pd\u001B[38;5;241m.\u001B[39mread_json(\u001B[38;5;124m\"\u001B[39m\u001B[38;5;124mdataset-telecon.json\u001B[39m\u001B[38;5;124m\"\u001B[39m)\n\u001B[0;32m      2\u001B[0m dados_churn\u001B[38;5;241m.\u001B[39mhead()\n",
      "File \u001B[1;32mC:\\ProgramData\\anaconda3\\Lib\\site-packages\\pandas\\io\\json\\_json.py:760\u001B[0m, in \u001B[0;36mread_json\u001B[1;34m(path_or_buf, orient, typ, dtype, convert_axes, convert_dates, keep_default_dates, precise_float, date_unit, encoding, encoding_errors, lines, chunksize, compression, nrows, storage_options, dtype_backend, engine)\u001B[0m\n\u001B[0;32m    757\u001B[0m \u001B[38;5;28;01mif\u001B[39;00m convert_axes \u001B[38;5;129;01mis\u001B[39;00m \u001B[38;5;28;01mNone\u001B[39;00m \u001B[38;5;129;01mand\u001B[39;00m orient \u001B[38;5;241m!=\u001B[39m \u001B[38;5;124m\"\u001B[39m\u001B[38;5;124mtable\u001B[39m\u001B[38;5;124m\"\u001B[39m:\n\u001B[0;32m    758\u001B[0m     convert_axes \u001B[38;5;241m=\u001B[39m \u001B[38;5;28;01mTrue\u001B[39;00m\n\u001B[1;32m--> 760\u001B[0m json_reader \u001B[38;5;241m=\u001B[39m JsonReader(\n\u001B[0;32m    761\u001B[0m     path_or_buf,\n\u001B[0;32m    762\u001B[0m     orient\u001B[38;5;241m=\u001B[39morient,\n\u001B[0;32m    763\u001B[0m     typ\u001B[38;5;241m=\u001B[39mtyp,\n\u001B[0;32m    764\u001B[0m     dtype\u001B[38;5;241m=\u001B[39mdtype,\n\u001B[0;32m    765\u001B[0m     convert_axes\u001B[38;5;241m=\u001B[39mconvert_axes,\n\u001B[0;32m    766\u001B[0m     convert_dates\u001B[38;5;241m=\u001B[39mconvert_dates,\n\u001B[0;32m    767\u001B[0m     keep_default_dates\u001B[38;5;241m=\u001B[39mkeep_default_dates,\n\u001B[0;32m    768\u001B[0m     precise_float\u001B[38;5;241m=\u001B[39mprecise_float,\n\u001B[0;32m    769\u001B[0m     date_unit\u001B[38;5;241m=\u001B[39mdate_unit,\n\u001B[0;32m    770\u001B[0m     encoding\u001B[38;5;241m=\u001B[39mencoding,\n\u001B[0;32m    771\u001B[0m     lines\u001B[38;5;241m=\u001B[39mlines,\n\u001B[0;32m    772\u001B[0m     chunksize\u001B[38;5;241m=\u001B[39mchunksize,\n\u001B[0;32m    773\u001B[0m     compression\u001B[38;5;241m=\u001B[39mcompression,\n\u001B[0;32m    774\u001B[0m     nrows\u001B[38;5;241m=\u001B[39mnrows,\n\u001B[0;32m    775\u001B[0m     storage_options\u001B[38;5;241m=\u001B[39mstorage_options,\n\u001B[0;32m    776\u001B[0m     encoding_errors\u001B[38;5;241m=\u001B[39mencoding_errors,\n\u001B[0;32m    777\u001B[0m     dtype_backend\u001B[38;5;241m=\u001B[39mdtype_backend,\n\u001B[0;32m    778\u001B[0m     engine\u001B[38;5;241m=\u001B[39mengine,\n\u001B[0;32m    779\u001B[0m )\n\u001B[0;32m    781\u001B[0m \u001B[38;5;28;01mif\u001B[39;00m chunksize:\n\u001B[0;32m    782\u001B[0m     \u001B[38;5;28;01mreturn\u001B[39;00m json_reader\n",
      "File \u001B[1;32mC:\\ProgramData\\anaconda3\\Lib\\site-packages\\pandas\\io\\json\\_json.py:861\u001B[0m, in \u001B[0;36mJsonReader.__init__\u001B[1;34m(self, filepath_or_buffer, orient, typ, dtype, convert_axes, convert_dates, keep_default_dates, precise_float, date_unit, encoding, lines, chunksize, compression, nrows, storage_options, encoding_errors, dtype_backend, engine)\u001B[0m\n\u001B[0;32m    859\u001B[0m     \u001B[38;5;28mself\u001B[39m\u001B[38;5;241m.\u001B[39mdata \u001B[38;5;241m=\u001B[39m filepath_or_buffer\n\u001B[0;32m    860\u001B[0m \u001B[38;5;28;01melif\u001B[39;00m \u001B[38;5;28mself\u001B[39m\u001B[38;5;241m.\u001B[39mengine \u001B[38;5;241m==\u001B[39m \u001B[38;5;124m\"\u001B[39m\u001B[38;5;124mujson\u001B[39m\u001B[38;5;124m\"\u001B[39m:\n\u001B[1;32m--> 861\u001B[0m     data \u001B[38;5;241m=\u001B[39m \u001B[38;5;28mself\u001B[39m\u001B[38;5;241m.\u001B[39m_get_data_from_filepath(filepath_or_buffer)\n\u001B[0;32m    862\u001B[0m     \u001B[38;5;28mself\u001B[39m\u001B[38;5;241m.\u001B[39mdata \u001B[38;5;241m=\u001B[39m \u001B[38;5;28mself\u001B[39m\u001B[38;5;241m.\u001B[39m_preprocess_data(data)\n",
      "File \u001B[1;32mC:\\ProgramData\\anaconda3\\Lib\\site-packages\\pandas\\io\\json\\_json.py:917\u001B[0m, in \u001B[0;36mJsonReader._get_data_from_filepath\u001B[1;34m(self, filepath_or_buffer)\u001B[0m\n\u001B[0;32m    909\u001B[0m     filepath_or_buffer \u001B[38;5;241m=\u001B[39m \u001B[38;5;28mself\u001B[39m\u001B[38;5;241m.\u001B[39mhandles\u001B[38;5;241m.\u001B[39mhandle\n\u001B[0;32m    910\u001B[0m \u001B[38;5;28;01melif\u001B[39;00m (\n\u001B[0;32m    911\u001B[0m     \u001B[38;5;28misinstance\u001B[39m(filepath_or_buffer, \u001B[38;5;28mstr\u001B[39m)\n\u001B[0;32m    912\u001B[0m     \u001B[38;5;129;01mand\u001B[39;00m filepath_or_buffer\u001B[38;5;241m.\u001B[39mlower()\u001B[38;5;241m.\u001B[39mendswith(\n\u001B[1;32m   (...)\u001B[0m\n\u001B[0;32m    915\u001B[0m     \u001B[38;5;129;01mand\u001B[39;00m \u001B[38;5;129;01mnot\u001B[39;00m file_exists(filepath_or_buffer)\n\u001B[0;32m    916\u001B[0m ):\n\u001B[1;32m--> 917\u001B[0m     \u001B[38;5;28;01mraise\u001B[39;00m \u001B[38;5;167;01mFileNotFoundError\u001B[39;00m(\u001B[38;5;124mf\u001B[39m\u001B[38;5;124m\"\u001B[39m\u001B[38;5;124mFile \u001B[39m\u001B[38;5;132;01m{\u001B[39;00mfilepath_or_buffer\u001B[38;5;132;01m}\u001B[39;00m\u001B[38;5;124m does not exist\u001B[39m\u001B[38;5;124m\"\u001B[39m)\n\u001B[0;32m    919\u001B[0m \u001B[38;5;28;01mreturn\u001B[39;00m filepath_or_buffer\n",
      "\u001B[1;31mFileNotFoundError\u001B[0m: File dataset-telecon.json does not exist"
     ]
    }
   ]
  },
  {
   "cell_type": "code",
   "source": [
    "dados_churn['conta'][0]"
   ],
   "metadata": {
    "colab": {
     "base_uri": "https://localhost:8080/"
    },
    "id": "qE5Dm9sVQ_kD",
    "outputId": "56923bd8-1e18-4444-e642-27ad26563a6f",
    "ExecuteTime": {
     "start_time": "2023-12-27T23:33:19.442045Z"
    }
   },
   "execution_count": null,
   "outputs": []
  },
  {
   "cell_type": "code",
   "source": [
    "pd.json_normalize(dados_churn['conta']).head()"
   ],
   "metadata": {
    "colab": {
     "base_uri": "https://localhost:8080/",
     "height": 206
    },
    "id": "MMJfvQKeRSFj",
    "outputId": "bb376de7-f9b1-4a09-dced-30b135462be9",
    "ExecuteTime": {
     "start_time": "2023-12-27T23:33:19.446043Z"
    }
   },
   "execution_count": null,
   "outputs": []
  },
  {
   "cell_type": "code",
   "source": [
    "pd.json_normalize(dados_churn['telefone']).head()"
   ],
   "metadata": {
    "colab": {
     "base_uri": "https://localhost:8080/",
     "height": 206
    },
    "id": "Ft5OQBHvRiC7",
    "outputId": "1a566cb7-0266-42a9-cbea-d4256fbc5dd3",
    "ExecuteTime": {
     "start_time": "2023-12-27T23:33:19.448040900Z"
    }
   },
   "execution_count": null,
   "outputs": []
  },
  {
   "cell_type": "markdown",
   "source": [
    "## Transformando dados em uma tabela"
   ],
   "metadata": {
    "id": "fvUxQeHvUXYh"
   }
  },
  {
   "cell_type": "code",
   "source": [
    "import json"
   ],
   "metadata": {
    "id": "yEhOQvYyRwkD",
    "ExecuteTime": {
     "start_time": "2023-12-27T23:33:19.450040Z"
    }
   },
   "execution_count": null,
   "outputs": []
  },
  {
   "cell_type": "code",
   "source": [
    "with open(\"dataset-telecon.json\") as f:\n",
    "  json_bruto = json.load(f)"
   ],
   "metadata": {
    "id": "7E9dv8Y2VVDj",
    "ExecuteTime": {
     "start_time": "2023-12-27T23:33:19.453039400Z"
    }
   },
   "execution_count": null,
   "outputs": []
  },
  {
   "cell_type": "code",
   "source": [
    "json_bruto"
   ],
   "metadata": {
    "colab": {
     "base_uri": "https://localhost:8080/"
    },
    "id": "Y9QKOgwiVn6n",
    "outputId": "a8f422e5-d6a7-49e4-93d0-81330a577836",
    "ExecuteTime": {
     "start_time": "2023-12-27T23:33:19.456041500Z"
    }
   },
   "execution_count": null,
   "outputs": []
  },
  {
   "cell_type": "code",
   "source": [
    "dados_normalizados = pd.json_normalize(json_bruto)\n",
    "dados_normalizados.head()"
   ],
   "metadata": {
    "colab": {
     "base_uri": "https://localhost:8080/",
     "height": 369
    },
    "id": "Eu-Z8kGoVriP",
    "outputId": "0c0d811b-2d46-4593-d11f-d80a61fa2f30",
    "ExecuteTime": {
     "start_time": "2023-12-27T23:33:19.459039800Z"
    }
   },
   "execution_count": null,
   "outputs": []
  },
  {
   "cell_type": "markdown",
   "source": [
    "# Transformação inicial dos dados\n"
   ],
   "metadata": {
    "id": "aHi_vmawZ7Hu"
   }
  },
  {
   "cell_type": "markdown",
   "source": [
    "## Entendendo os dados"
   ],
   "metadata": {
    "id": "SXg0O3N2Z_ed"
   }
  },
  {
   "cell_type": "markdown",
   "source": [
    "A base de dados contém colunas além do ID dos clientes e o churn:\n",
    "\n",
    "<b>Cliente:</b>\n",
    " \n",
    "* `genero`: gênero (masculino e feminino)\n",
    "* `idoso`: informação sobre um cliente ter ou não idade igual ou maior que 65 anos\n",
    "* `parceiro`: se o cliente possui ou não um parceiro ou parceira\n",
    "* `dependentes`: se o cliente possui ou não dependentes\n",
    "* `tempo_servico`: meses de contrato do cliente\n",
    "\n",
    "<b>Serviço de telefonia</b>\n",
    "\n",
    " * `servico_telefone`: assinatura de serviço telefônico\n",
    " * `varias_linhas`: assinatura de mais de uma linha de telefone\n",
    " \n",
    "\n",
    "<b>Serviço de internet</b>\n",
    "\n",
    "\n",
    " * `servico_internet`: assinatura de um provedor internet\n",
    " * `seguranca_online`: assinatura adicional de segurança online\n",
    " * `backup_online`: assinatura adicional de backup online\n",
    " * `protecao_dispositivo`: assinatura adicional de proteção no dispositivo\n",
    " * `suporte_tecnico`: assinatura adicional de suporte técnico, menos tempo de espera\n",
    " * `tv_streaming`: assinatura de TV a cabo\n",
    " * `filmes_streaming`: assinatura de streaming de filmes\n",
    "\n",
    "\n",
    "<b>Conta</b>\n",
    "\n",
    " * `contrato`: tipo de contrato\n",
    " * `faturamente_eletronico`: se o cliente prefere receber online a fatura\n",
    " * `metodo_pagamento`: forma de pagamento\n",
    " * `cobranca.mensal`: total de todos os serviços do cliente por mês\n",
    " * `cobranca.Total`: total gasto pelo cliente"
   ],
   "metadata": {
    "id": "2ZLeXERNaE9W"
   }
  },
  {
   "cell_type": "code",
   "source": [
    "dados_normalizados.info()"
   ],
   "metadata": {
    "colab": {
     "base_uri": "https://localhost:8080/"
    },
    "id": "a93IOZM3fMWR",
    "outputId": "4a6b370a-ea05-46ac-9e2a-1bae8afbb327",
    "ExecuteTime": {
     "start_time": "2023-12-27T23:33:19.462039500Z"
    }
   },
   "execution_count": null,
   "outputs": []
  },
  {
   "cell_type": "code",
   "source": [
    "dados_normalizados['conta.cobranca.Total'] = dados_normalizados['conta.cobranca.Total'].astype(float)"
   ],
   "metadata": {
    "id": "WVCTxoOffRkx",
    "ExecuteTime": {
     "start_time": "2023-12-27T23:33:19.465037700Z"
    }
   },
   "execution_count": null,
   "outputs": []
  },
  {
   "cell_type": "markdown",
   "source": [
    "## Modificando o tipo da coluna"
   ],
   "metadata": {
    "id": "ODj_Zhh7NGdU"
   }
  },
  {
   "cell_type": "code",
   "source": [
    "dados_normalizados[dados_normalizados['conta.cobranca.Total'] == ' '].head()"
   ],
   "metadata": {
    "colab": {
     "base_uri": "https://localhost:8080/",
     "height": 386
    },
    "id": "FQmOEvQfYVh7",
    "outputId": "a4ef88ee-7711-4f75-81c8-f33dc5049067",
    "ExecuteTime": {
     "start_time": "2023-12-27T23:33:19.468036800Z"
    }
   },
   "execution_count": null,
   "outputs": []
  },
  {
   "cell_type": "code",
   "source": [
    "dados_normalizados[dados_normalizados['conta.cobranca.Total'] == ' '][\n",
    "    ['cliente.tempo_servico', 'conta.contrato', 'conta.cobranca.mensal', 'conta.cobranca.Total']\n",
    "]"
   ],
   "metadata": {
    "colab": {
     "base_uri": "https://localhost:8080/",
     "height": 394
    },
    "id": "B-FrX40lZr3g",
    "outputId": "415fff7f-ebe0-4863-f06f-5f83cb51d532",
    "ExecuteTime": {
     "start_time": "2023-12-27T23:33:19.473039100Z"
    }
   },
   "execution_count": null,
   "outputs": []
  },
  {
   "cell_type": "code",
   "source": [
    "idx = dados_normalizados[dados_normalizados['conta.cobranca.Total'] == ' '].index"
   ],
   "metadata": {
    "id": "MfvT_FtqaIL5",
    "ExecuteTime": {
     "start_time": "2023-12-27T23:33:19.476041500Z"
    }
   },
   "execution_count": null,
   "outputs": []
  },
  {
   "cell_type": "code",
   "source": [
    "dados_normalizados.loc[idx, \"conta.cobranca.Total\"] = dados_normalizados.loc[idx, \"conta.cobranca.mensal\"] * 24"
   ],
   "metadata": {
    "id": "4dxuVVVLaapC",
    "ExecuteTime": {
     "start_time": "2023-12-27T23:33:19.479041700Z"
    }
   },
   "execution_count": null,
   "outputs": []
  },
  {
   "cell_type": "code",
   "source": [
    "dados_normalizados.loc[idx, \"cliente.tempo_servico\"] = 24"
   ],
   "metadata": {
    "id": "S351k6FCbAeg",
    "ExecuteTime": {
     "start_time": "2023-12-27T23:33:19.482038600Z"
    }
   },
   "execution_count": null,
   "outputs": []
  },
  {
   "cell_type": "code",
   "source": [
    "dados_normalizados.loc[idx][\n",
    "    ['cliente.tempo_servico', 'conta.contrato', 'conta.cobranca.mensal', 'conta.cobranca.Total']\n",
    "]"
   ],
   "metadata": {
    "colab": {
     "base_uri": "https://localhost:8080/",
     "height": 394
    },
    "id": "fmkRnJpsbN7H",
    "outputId": "55f77db0-4962-435f-b5d4-bf79f0a16e4d",
    "ExecuteTime": {
     "start_time": "2023-12-27T23:33:19.485043100Z"
    }
   },
   "execution_count": null,
   "outputs": []
  },
  {
   "cell_type": "code",
   "source": [
    "dados_normalizados['conta.cobranca.Total'] = dados_normalizados['conta.cobranca.Total'].astype(float)"
   ],
   "metadata": {
    "id": "QfuUZPHubvsR",
    "ExecuteTime": {
     "start_time": "2023-12-27T23:33:19.488036900Z"
    }
   },
   "execution_count": null,
   "outputs": []
  },
  {
   "cell_type": "code",
   "source": [
    "dados_normalizados.info()"
   ],
   "metadata": {
    "colab": {
     "base_uri": "https://localhost:8080/"
    },
    "id": "5GHXCtA_b1Gv",
    "outputId": "3928f431-054e-496d-80e6-dc70a15ee446",
    "ExecuteTime": {
     "start_time": "2023-12-27T23:33:19.491037Z"
    }
   },
   "execution_count": null,
   "outputs": []
  },
  {
   "cell_type": "markdown",
   "source": [
    "## Identificando e tratando strings vazias"
   ],
   "metadata": {
    "id": "K0jmyeAmdgo-"
   }
  },
  {
   "cell_type": "code",
   "source": [
    "for col in dados_normalizados.columns:\n",
    "    print(f\"Coluna: {col}\")\n",
    "    print(dados_normalizados[col].unique())\n",
    "    print(\"-\" * 30)"
   ],
   "metadata": {
    "colab": {
     "base_uri": "https://localhost:8080/"
    },
    "id": "wNzHFo1Ivxpo",
    "outputId": "9f1024b6-21e1-4b30-d2c7-186c6f479718",
    "ExecuteTime": {
     "start_time": "2023-12-27T23:33:19.495040800Z"
    }
   },
   "execution_count": null,
   "outputs": []
  },
  {
   "cell_type": "code",
   "source": [
    "dados_normalizados.query(\"Churn == ''\")"
   ],
   "metadata": {
    "colab": {
     "base_uri": "https://localhost:8080/",
     "height": 661
    },
    "id": "RuZX6f_CzR6w",
    "outputId": "e25094fd-5e2c-4b1c-e29d-fc8516e2ea0e",
    "ExecuteTime": {
     "start_time": "2023-12-27T23:33:19.497038600Z"
    }
   },
   "execution_count": null,
   "outputs": []
  },
  {
   "cell_type": "code",
   "source": [
    "dados_sem_vazio = dados_normalizados[dados_normalizados['Churn'] != ''].copy()"
   ],
   "metadata": {
    "id": "F4oIYcNDy5S-",
    "ExecuteTime": {
     "start_time": "2023-12-27T23:33:19.501037600Z"
    }
   },
   "execution_count": null,
   "outputs": []
  },
  {
   "cell_type": "code",
   "source": [
    "dados_sem_vazio.info()"
   ],
   "metadata": {
    "colab": {
     "base_uri": "https://localhost:8080/"
    },
    "id": "ZhQ7lFB0z87l",
    "outputId": "c02c483d-bb93-46df-820b-3a80d34edcf1",
    "ExecuteTime": {
     "start_time": "2023-12-27T23:33:19.505040200Z"
    }
   },
   "execution_count": null,
   "outputs": []
  },
  {
   "cell_type": "code",
   "source": [
    "dados_sem_vazio.reset_index(drop=True, inplace=True)"
   ],
   "metadata": {
    "id": "F8QevNjq0mDd",
    "ExecuteTime": {
     "start_time": "2023-12-27T23:33:19.508039300Z"
    }
   },
   "execution_count": null,
   "outputs": []
  },
  {
   "cell_type": "code",
   "source": [
    "dados_sem_vazio"
   ],
   "metadata": {
    "colab": {
     "base_uri": "https://localhost:8080/",
     "height": 626
    },
    "id": "1_UQP2Bg0Tyk",
    "outputId": "be984911-ad1f-4c4e-e425-1fc98f264040",
    "ExecuteTime": {
     "start_time": "2023-12-27T23:33:19.512043800Z"
    }
   },
   "execution_count": null,
   "outputs": []
  },
  {
   "cell_type": "markdown",
   "source": [
    "# Trabalhando com dados duplicados e nulos"
   ],
   "metadata": {
    "id": "hYUeBIchPPX_"
   }
  },
  {
   "cell_type": "markdown",
   "source": [
    "## Identificando e tratando dados duplicados\n"
   ],
   "metadata": {
    "id": "jT_oY6t_PSD2"
   }
  },
  {
   "cell_type": "code",
   "source": [
    "dados_sem_vazio.duplicated()"
   ],
   "metadata": {
    "colab": {
     "base_uri": "https://localhost:8080/"
    },
    "id": "JkAEvyV9Q-U1",
    "outputId": "d8f54cd6-b5ef-4e0a-cb3f-fa8ae8df6df8",
    "ExecuteTime": {
     "start_time": "2023-12-27T23:33:19.516060300Z"
    }
   },
   "execution_count": null,
   "outputs": []
  },
  {
   "cell_type": "code",
   "source": [
    "dados_sem_vazio.duplicated().sum()"
   ],
   "metadata": {
    "colab": {
     "base_uri": "https://localhost:8080/"
    },
    "id": "LAjNEjBuUUFy",
    "outputId": "b386d906-6ea2-4453-bea1-335b08511ad5",
    "ExecuteTime": {
     "start_time": "2023-12-27T23:33:19.521059Z"
    }
   },
   "execution_count": null,
   "outputs": []
  },
  {
   "cell_type": "code",
   "source": [
    "filtro_duplicadas = dados_sem_vazio.duplicated()\n",
    "filtro_duplicadas"
   ],
   "metadata": {
    "colab": {
     "base_uri": "https://localhost:8080/"
    },
    "id": "st1P5EPtUk3h",
    "outputId": "707bba94-5e8a-41df-e560-566ff30998a9",
    "ExecuteTime": {
     "start_time": "2023-12-27T23:33:19.524056200Z"
    }
   },
   "execution_count": null,
   "outputs": []
  },
  {
   "cell_type": "code",
   "source": [
    "dados_sem_vazio[filtro_duplicadas]"
   ],
   "metadata": {
    "colab": {
     "base_uri": "https://localhost:8080/",
     "height": 643
    },
    "id": "IYB0vnCQUxYo",
    "outputId": "ddbae6b1-5cd0-43f7-874e-32e767e4fd99",
    "ExecuteTime": {
     "start_time": "2023-12-27T23:33:19.527572500Z"
    }
   },
   "execution_count": null,
   "outputs": []
  },
  {
   "cell_type": "code",
   "source": [
    "dados_sem_vazio.drop_duplicates(inplace=True)"
   ],
   "metadata": {
    "id": "MY_VE1OxU2ww",
    "ExecuteTime": {
     "start_time": "2023-12-27T23:33:19.531585400Z"
    }
   },
   "execution_count": null,
   "outputs": []
  },
  {
   "cell_type": "code",
   "source": [
    "dados_sem_vazio.duplicated().sum()"
   ],
   "metadata": {
    "colab": {
     "base_uri": "https://localhost:8080/"
    },
    "id": "jos83YuxVa7Q",
    "outputId": "aac4a2cc-4dd6-43ef-df93-c14be1dfda6e",
    "ExecuteTime": {
     "start_time": "2023-12-27T23:33:19.534586300Z"
    }
   },
   "execution_count": null,
   "outputs": []
  },
  {
   "cell_type": "markdown",
   "source": [
    "## Identificando e substituindo dados nulos"
   ],
   "metadata": {
    "id": "IQ0fjF3_ZqO-"
   }
  },
  {
   "cell_type": "code",
   "source": [
    "dados_sem_vazio.isna()"
   ],
   "metadata": {
    "colab": {
     "base_uri": "https://localhost:8080/",
     "height": 487
    },
    "id": "NtF6mGUaphOL",
    "outputId": "cbb47bbc-25ab-43c7-bc1a-94f14ab21322",
    "ExecuteTime": {
     "end_time": "2023-12-27T23:33:20.107709500Z",
     "start_time": "2023-12-27T23:33:19.537590Z"
    }
   },
   "execution_count": null,
   "outputs": []
  },
  {
   "cell_type": "code",
   "source": [
    "dados_sem_vazio.isna().sum()"
   ],
   "metadata": {
    "colab": {
     "base_uri": "https://localhost:8080/"
    },
    "id": "GONVeBsEtGRX",
    "outputId": "2c419dae-69dc-4ded-f9b0-41e87dc144d6",
    "ExecuteTime": {
     "start_time": "2023-12-27T23:33:19.540591500Z"
    }
   },
   "execution_count": null,
   "outputs": []
  },
  {
   "cell_type": "code",
   "source": [
    "dados_sem_vazio.isna().sum().sum()"
   ],
   "metadata": {
    "colab": {
     "base_uri": "https://localhost:8080/"
    },
    "id": "BWFxya7JtbVe",
    "outputId": "c3503a9e-7bd3-41de-f9ac-9335ae2d691f",
    "ExecuteTime": {
     "start_time": "2023-12-27T23:33:19.543589600Z"
    }
   },
   "execution_count": null,
   "outputs": []
  },
  {
   "cell_type": "code",
   "source": [
    "dados_sem_vazio[dados_sem_vazio.isna().any(axis=1)]"
   ],
   "metadata": {
    "colab": {
     "base_uri": "https://localhost:8080/",
     "height": 1000
    },
    "id": "pUlk5Dp1tqY9",
    "outputId": "e30ea6a2-2726-46fa-9a0f-472016d64fcb",
    "ExecuteTime": {
     "start_time": "2023-12-27T23:33:19.546587500Z"
    }
   },
   "execution_count": null,
   "outputs": []
  },
  {
   "cell_type": "code",
   "source": [
    "filtro = dados_sem_vazio['cliente.tempo_servico'].isna()"
   ],
   "metadata": {
    "id": "zhHUk--9t_xk",
    "ExecuteTime": {
     "start_time": "2023-12-27T23:33:19.548588300Z"
    }
   },
   "execution_count": null,
   "outputs": []
  },
  {
   "cell_type": "code",
   "source": [
    "dados_sem_vazio[filtro][['cliente.tempo_servico', 'conta.cobranca.mensal', 'conta.cobranca.Total']]"
   ],
   "metadata": {
    "colab": {
     "base_uri": "https://localhost:8080/",
     "height": 300
    },
    "id": "_XRTTHn4ug4M",
    "outputId": "ee8f8a85-8565-4ac8-d373-58174a0eac7c",
    "ExecuteTime": {
     "start_time": "2023-12-27T23:33:19.551591200Z"
    }
   },
   "execution_count": null,
   "outputs": []
  },
  {
   "cell_type": "code",
   "source": [
    "import numpy as np\n",
    "\n",
    "np.ceil(5957.90/90.45)"
   ],
   "metadata": {
    "colab": {
     "base_uri": "https://localhost:8080/"
    },
    "id": "Ytiui-OluoNE",
    "outputId": "389539ad-af19-4a1b-f2f5-08475a713c8e",
    "ExecuteTime": {
     "start_time": "2023-12-27T23:33:19.553594800Z"
    }
   },
   "execution_count": null,
   "outputs": []
  },
  {
   "cell_type": "code",
   "source": [
    "dados_sem_vazio['cliente.tempo_servico'].fillna(\n",
    "    np.ceil(\n",
    "        dados_sem_vazio['conta.cobranca.Total'] / dados_sem_vazio['conta.cobranca.mensal']\n",
    "    ), inplace=True\n",
    ")"
   ],
   "metadata": {
    "id": "YkCYkt0bu-Hr",
    "ExecuteTime": {
     "start_time": "2023-12-27T23:33:19.555586700Z"
    }
   },
   "execution_count": null,
   "outputs": []
  },
  {
   "cell_type": "code",
   "source": [
    "dados_sem_vazio[filtro][['cliente.tempo_servico', 'conta.cobranca.mensal', 'conta.cobranca.Total']]"
   ],
   "metadata": {
    "colab": {
     "base_uri": "https://localhost:8080/",
     "height": 300
    },
    "id": "PxtoA4L7vrB_",
    "outputId": "71cd9a61-342d-465e-ce5f-528ee9b707b4",
    "ExecuteTime": {
     "start_time": "2023-12-27T23:33:19.557587400Z"
    }
   },
   "execution_count": null,
   "outputs": []
  },
  {
   "cell_type": "code",
   "source": [
    "dados_sem_vazio.isna().sum()"
   ],
   "metadata": {
    "colab": {
     "base_uri": "https://localhost:8080/"
    },
    "id": "V425ZBFCvxK7",
    "outputId": "e43fcb81-0e3d-431f-eadd-5fad312a90b8",
    "ExecuteTime": {
     "start_time": "2023-12-27T23:33:19.559587100Z"
    }
   },
   "execution_count": null,
   "outputs": []
  },
  {
   "cell_type": "markdown",
   "source": [
    "## Retirando os dados nulos"
   ],
   "metadata": {
    "id": "q45rKCkvVnd3"
   }
  },
  {
   "cell_type": "code",
   "source": [
    "dados_sem_vazio['conta.contrato'].value_counts()"
   ],
   "metadata": {
    "colab": {
     "base_uri": "https://localhost:8080/"
    },
    "id": "fiqIAy-HddoO",
    "outputId": "ec2a1918-7921-41bc-8fa1-3053b639e318",
    "ExecuteTime": {
     "start_time": "2023-12-27T23:33:19.561586800Z"
    }
   },
   "execution_count": null,
   "outputs": []
  },
  {
   "cell_type": "code",
   "source": [
    "colunas_dropar = ['conta.contrato', 'conta.faturamente_eletronico', 'conta.metodo_pagamento']"
   ],
   "metadata": {
    "id": "jIAKfVjFfDNe",
    "ExecuteTime": {
     "start_time": "2023-12-27T23:33:19.564585400Z"
    }
   },
   "execution_count": null,
   "outputs": []
  },
  {
   "cell_type": "code",
   "source": [
    "dados_sem_vazio[colunas_dropar].isna().any(axis=1).sum()"
   ],
   "metadata": {
    "colab": {
     "base_uri": "https://localhost:8080/"
    },
    "id": "BJDsYkh_f4lF",
    "outputId": "fd012acf-87e6-4d5a-98de-57b803f7376d",
    "ExecuteTime": {
     "start_time": "2023-12-27T23:33:19.568602Z"
    }
   },
   "execution_count": null,
   "outputs": []
  },
  {
   "cell_type": "code",
   "source": [
    "df_sem_nulo = dados_sem_vazio.dropna(subset=colunas_dropar).copy()\n",
    "df_sem_nulo.head()"
   ],
   "metadata": {
    "colab": {
     "base_uri": "https://localhost:8080/",
     "height": 369
    },
    "id": "D6CD7g7mgJP1",
    "outputId": "974b6e9d-f951-4b50-b559-feae197c6f73",
    "ExecuteTime": {
     "start_time": "2023-12-27T23:33:19.692641900Z"
    }
   },
   "execution_count": 3,
   "outputs": [
    {
     "ename": "NameError",
     "evalue": "name 'dados_sem_vazio' is not defined",
     "output_type": "error",
     "traceback": [
      "\u001B[1;31m---------------------------------------------------------------------------\u001B[0m",
      "\u001B[1;31mNameError\u001B[0m                                 Traceback (most recent call last)",
      "Cell \u001B[1;32mIn[3], line 1\u001B[0m\n\u001B[1;32m----> 1\u001B[0m df_sem_nulo \u001B[38;5;241m=\u001B[39m dados_sem_vazio\u001B[38;5;241m.\u001B[39mdropna(subset\u001B[38;5;241m=\u001B[39mcolunas_dropar)\u001B[38;5;241m.\u001B[39mcopy()\n\u001B[0;32m      2\u001B[0m df_sem_nulo\u001B[38;5;241m.\u001B[39mhead()\n",
      "\u001B[1;31mNameError\u001B[0m: name 'dados_sem_vazio' is not defined"
     ]
    }
   ]
  },
  {
   "cell_type": "code",
   "source": [
    "df_sem_nulo.reset_index(drop=True, inplace=True)"
   ],
   "metadata": {
    "id": "WJUigIwcgmVm",
    "ExecuteTime": {
     "end_time": "2023-12-27T23:33:21.366330300Z",
     "start_time": "2023-12-27T23:33:21.098135800Z"
    }
   },
   "execution_count": 4,
   "outputs": [
    {
     "ename": "NameError",
     "evalue": "name 'df_sem_nulo' is not defined",
     "output_type": "error",
     "traceback": [
      "\u001B[1;31m---------------------------------------------------------------------------\u001B[0m",
      "\u001B[1;31mNameError\u001B[0m                                 Traceback (most recent call last)",
      "Cell \u001B[1;32mIn[4], line 1\u001B[0m\n\u001B[1;32m----> 1\u001B[0m df_sem_nulo\u001B[38;5;241m.\u001B[39mreset_index(drop\u001B[38;5;241m=\u001B[39m\u001B[38;5;28;01mTrue\u001B[39;00m, inplace\u001B[38;5;241m=\u001B[39m\u001B[38;5;28;01mTrue\u001B[39;00m)\n",
      "\u001B[1;31mNameError\u001B[0m: name 'df_sem_nulo' is not defined"
     ]
    }
   ]
  },
  {
   "cell_type": "code",
   "source": [
    "df_sem_nulo.isna().sum()"
   ],
   "metadata": {
    "colab": {
     "base_uri": "https://localhost:8080/"
    },
    "id": "SbOR2Q5vhFq9",
    "outputId": "f6583715-c73f-4183-e82d-135e4359fd29",
    "ExecuteTime": {
     "start_time": "2023-12-27T23:33:21.322486600Z"
    }
   },
   "execution_count": 5,
   "outputs": [
    {
     "ename": "NameError",
     "evalue": "name 'df_sem_nulo' is not defined",
     "output_type": "error",
     "traceback": [
      "\u001B[1;31m---------------------------------------------------------------------------\u001B[0m",
      "\u001B[1;31mNameError\u001B[0m                                 Traceback (most recent call last)",
      "Cell \u001B[1;32mIn[5], line 1\u001B[0m\n\u001B[1;32m----> 1\u001B[0m df_sem_nulo\u001B[38;5;241m.\u001B[39misna()\u001B[38;5;241m.\u001B[39msum()\n",
      "\u001B[1;31mNameError\u001B[0m: name 'df_sem_nulo' is not defined"
     ]
    }
   ]
  },
  {
   "cell_type": "markdown",
   "source": [
    "# Trabalhando com os outliers"
   ],
   "metadata": {
    "id": "2KZU6sEi0NSt"
   }
  },
  {
   "cell_type": "markdown",
   "source": [
    "## Identificando os outliers"
   ],
   "metadata": {
    "id": "0UsJXYYW0QnV"
   }
  },
  {
   "cell_type": "markdown",
   "source": [
    "![](https://i.imgur.com/Arb5cXL.png)"
   ],
   "metadata": {
    "id": "rn1MVlOi2nTS"
   }
  },
  {
   "cell_type": "code",
   "source": [
    "df_sem_nulo.describe()"
   ],
   "metadata": {
    "colab": {
     "base_uri": "https://localhost:8080/",
     "height": 300
    },
    "id": "eWATmxFmWYBN",
    "outputId": "cfd64736-c713-430b-faae-a2be5a481c65",
    "ExecuteTime": {
     "end_time": "2023-12-27T23:33:21.972677Z",
     "start_time": "2023-12-27T23:33:21.457869100Z"
    }
   },
   "execution_count": 6,
   "outputs": [
    {
     "ename": "NameError",
     "evalue": "name 'df_sem_nulo' is not defined",
     "output_type": "error",
     "traceback": [
      "\u001B[1;31m---------------------------------------------------------------------------\u001B[0m",
      "\u001B[1;31mNameError\u001B[0m                                 Traceback (most recent call last)",
      "Cell \u001B[1;32mIn[6], line 1\u001B[0m\n\u001B[1;32m----> 1\u001B[0m df_sem_nulo\u001B[38;5;241m.\u001B[39mdescribe()\n",
      "\u001B[1;31mNameError\u001B[0m: name 'df_sem_nulo' is not defined"
     ]
    }
   ]
  },
  {
   "cell_type": "code",
   "source": [
    "1080/12"
   ],
   "metadata": {
    "colab": {
     "base_uri": "https://localhost:8080/"
    },
    "id": "rBr9PLjbYy3T",
    "outputId": "e307adae-b422-4416-b6ff-974c1f0e119a",
    "ExecuteTime": {
     "end_time": "2023-12-27T23:33:22.361428Z",
     "start_time": "2023-12-27T23:33:21.891874900Z"
    }
   },
   "execution_count": 7,
   "outputs": [
    {
     "data": {
      "text/plain": "90.0"
     },
     "execution_count": 7,
     "metadata": {},
     "output_type": "execute_result"
    }
   ]
  },
  {
   "cell_type": "code",
   "source": [
    "import seaborn as sns"
   ],
   "metadata": {
    "id": "XT-m4ggjZJZC",
    "ExecuteTime": {
     "end_time": "2023-12-27T23:33:22.536484200Z",
     "start_time": "2023-12-27T23:33:22.335408Z"
    }
   },
   "execution_count": 8,
   "outputs": []
  },
  {
   "cell_type": "code",
   "source": [
    "sns.boxplot(x=df_sem_nulo['cliente.tempo_servico'])"
   ],
   "metadata": {
    "colab": {
     "base_uri": "https://localhost:8080/",
     "height": 467
    },
    "id": "mjjTSbASZRcS",
    "outputId": "768b5732-b5ad-4f03-8468-ce5d96915315",
    "ExecuteTime": {
     "end_time": "2023-12-27T23:33:22.892390400Z",
     "start_time": "2023-12-27T23:33:22.544482700Z"
    }
   },
   "execution_count": 9,
   "outputs": [
    {
     "ename": "NameError",
     "evalue": "name 'df_sem_nulo' is not defined",
     "output_type": "error",
     "traceback": [
      "\u001B[1;31m---------------------------------------------------------------------------\u001B[0m",
      "\u001B[1;31mNameError\u001B[0m                                 Traceback (most recent call last)",
      "Cell \u001B[1;32mIn[9], line 1\u001B[0m\n\u001B[1;32m----> 1\u001B[0m sns\u001B[38;5;241m.\u001B[39mboxplot(x\u001B[38;5;241m=\u001B[39mdf_sem_nulo[\u001B[38;5;124m'\u001B[39m\u001B[38;5;124mcliente.tempo_servico\u001B[39m\u001B[38;5;124m'\u001B[39m])\n",
      "\u001B[1;31mNameError\u001B[0m: name 'df_sem_nulo' is not defined"
     ]
    }
   ]
  },
  {
   "cell_type": "code",
   "source": [
    "Q1 = df_sem_nulo['cliente.tempo_servico'].quantile(.25)\n",
    "Q3 = df_sem_nulo['cliente.tempo_servico'].quantile(.75)\n",
    "IQR = Q3-Q1\n",
    "limite_inferior = Q1 - 1.5*IQR\n",
    "limite_superior = Q3 + 1.5*IQR"
   ],
   "metadata": {
    "id": "JhNyUz39ZY-R",
    "ExecuteTime": {
     "start_time": "2023-12-27T23:33:22.856827200Z"
    }
   },
   "execution_count": 10,
   "outputs": [
    {
     "ename": "NameError",
     "evalue": "name 'df_sem_nulo' is not defined",
     "output_type": "error",
     "traceback": [
      "\u001B[1;31m---------------------------------------------------------------------------\u001B[0m",
      "\u001B[1;31mNameError\u001B[0m                                 Traceback (most recent call last)",
      "Cell \u001B[1;32mIn[10], line 1\u001B[0m\n\u001B[1;32m----> 1\u001B[0m Q1 \u001B[38;5;241m=\u001B[39m df_sem_nulo[\u001B[38;5;124m'\u001B[39m\u001B[38;5;124mcliente.tempo_servico\u001B[39m\u001B[38;5;124m'\u001B[39m]\u001B[38;5;241m.\u001B[39mquantile(\u001B[38;5;241m.25\u001B[39m)\n\u001B[0;32m      2\u001B[0m Q3 \u001B[38;5;241m=\u001B[39m df_sem_nulo[\u001B[38;5;124m'\u001B[39m\u001B[38;5;124mcliente.tempo_servico\u001B[39m\u001B[38;5;124m'\u001B[39m]\u001B[38;5;241m.\u001B[39mquantile(\u001B[38;5;241m.75\u001B[39m)\n\u001B[0;32m      3\u001B[0m IQR \u001B[38;5;241m=\u001B[39m Q3\u001B[38;5;241m-\u001B[39mQ1\n",
      "\u001B[1;31mNameError\u001B[0m: name 'df_sem_nulo' is not defined"
     ]
    }
   ]
  },
  {
   "cell_type": "code",
   "source": [
    "outliers_index = (df_sem_nulo['cliente.tempo_servico'] < limite_inferior) | (df_sem_nulo['cliente.tempo_servico'] > limite_superior)\n",
    "outliers_index"
   ],
   "metadata": {
    "colab": {
     "base_uri": "https://localhost:8080/"
    },
    "id": "IS6ogRnqZv9x",
    "outputId": "1e1f7583-6805-442a-9a25-3f572306767d",
    "ExecuteTime": {
     "end_time": "2023-12-27T23:33:23.401207700Z",
     "start_time": "2023-12-27T23:33:23.039448300Z"
    }
   },
   "execution_count": 11,
   "outputs": [
    {
     "ename": "NameError",
     "evalue": "name 'df_sem_nulo' is not defined",
     "output_type": "error",
     "traceback": [
      "\u001B[1;31m---------------------------------------------------------------------------\u001B[0m",
      "\u001B[1;31mNameError\u001B[0m                                 Traceback (most recent call last)",
      "Cell \u001B[1;32mIn[11], line 1\u001B[0m\n\u001B[1;32m----> 1\u001B[0m outliers_index \u001B[38;5;241m=\u001B[39m (df_sem_nulo[\u001B[38;5;124m'\u001B[39m\u001B[38;5;124mcliente.tempo_servico\u001B[39m\u001B[38;5;124m'\u001B[39m] \u001B[38;5;241m<\u001B[39m limite_inferior) \u001B[38;5;241m|\u001B[39m (df_sem_nulo[\u001B[38;5;124m'\u001B[39m\u001B[38;5;124mcliente.tempo_servico\u001B[39m\u001B[38;5;124m'\u001B[39m] \u001B[38;5;241m>\u001B[39m limite_superior)\n\u001B[0;32m      2\u001B[0m outliers_index\n",
      "\u001B[1;31mNameError\u001B[0m: name 'df_sem_nulo' is not defined"
     ]
    }
   ]
  },
  {
   "cell_type": "code",
   "source": [
    "df_sem_nulo[outliers_index]['cliente.tempo_servico']"
   ],
   "metadata": {
    "colab": {
     "base_uri": "https://localhost:8080/"
    },
    "id": "HpyQXRFravaZ",
    "outputId": "1a034bd5-701c-4c65-b89b-48d9eb1ec8c6",
    "ExecuteTime": {
     "start_time": "2023-12-27T23:33:23.341675Z"
    }
   },
   "execution_count": 12,
   "outputs": [
    {
     "ename": "NameError",
     "evalue": "name 'df_sem_nulo' is not defined",
     "output_type": "error",
     "traceback": [
      "\u001B[1;31m---------------------------------------------------------------------------\u001B[0m",
      "\u001B[1;31mNameError\u001B[0m                                 Traceback (most recent call last)",
      "Cell \u001B[1;32mIn[12], line 1\u001B[0m\n\u001B[1;32m----> 1\u001B[0m df_sem_nulo[outliers_index][\u001B[38;5;124m'\u001B[39m\u001B[38;5;124mcliente.tempo_servico\u001B[39m\u001B[38;5;124m'\u001B[39m]\n",
      "\u001B[1;31mNameError\u001B[0m: name 'df_sem_nulo' is not defined"
     ]
    }
   ]
  },
  {
   "cell_type": "markdown",
   "source": [
    "## Substituindo valores para os outliers"
   ],
   "metadata": {
    "id": "Y-GotOoT4TSB"
   }
  },
  {
   "cell_type": "code",
   "source": [
    "df_sem_out = df_sem_nulo.copy()"
   ],
   "metadata": {
    "id": "ujorWWeEBASw",
    "ExecuteTime": {
     "end_time": "2023-12-27T23:33:23.956933300Z",
     "start_time": "2023-12-27T23:33:23.697786400Z"
    }
   },
   "execution_count": 13,
   "outputs": [
    {
     "ename": "NameError",
     "evalue": "name 'df_sem_nulo' is not defined",
     "output_type": "error",
     "traceback": [
      "\u001B[1;31m---------------------------------------------------------------------------\u001B[0m",
      "\u001B[1;31mNameError\u001B[0m                                 Traceback (most recent call last)",
      "Cell \u001B[1;32mIn[13], line 1\u001B[0m\n\u001B[1;32m----> 1\u001B[0m df_sem_out \u001B[38;5;241m=\u001B[39m df_sem_nulo\u001B[38;5;241m.\u001B[39mcopy()\n",
      "\u001B[1;31mNameError\u001B[0m: name 'df_sem_nulo' is not defined"
     ]
    }
   ]
  },
  {
   "cell_type": "markdown",
   "source": [],
   "metadata": {
    "id": "UV3sAkg2Fsnl"
   }
  },
  {
   "cell_type": "code",
   "source": [
    "df_sem_out[outliers_index]['cliente.tempo_servico']"
   ],
   "metadata": {
    "colab": {
     "base_uri": "https://localhost:8080/"
    },
    "id": "yhSVt_HeB5gd",
    "outputId": "d738b8da-9bbf-4bd3-c7a4-84303cb3ac57",
    "ExecuteTime": {
     "start_time": "2023-12-27T23:33:23.920057700Z"
    }
   },
   "execution_count": 14,
   "outputs": [
    {
     "ename": "NameError",
     "evalue": "name 'df_sem_out' is not defined",
     "output_type": "error",
     "traceback": [
      "\u001B[1;31m---------------------------------------------------------------------------\u001B[0m",
      "\u001B[1;31mNameError\u001B[0m                                 Traceback (most recent call last)",
      "Cell \u001B[1;32mIn[14], line 1\u001B[0m\n\u001B[1;32m----> 1\u001B[0m df_sem_out[outliers_index][\u001B[38;5;124m'\u001B[39m\u001B[38;5;124mcliente.tempo_servico\u001B[39m\u001B[38;5;124m'\u001B[39m]\n",
      "\u001B[1;31mNameError\u001B[0m: name 'df_sem_out' is not defined"
     ]
    }
   ]
  },
  {
   "cell_type": "code",
   "source": [
    "df_sem_out.loc[outliers_index, 'cliente.tempo_servico'] = np.ceil(\n",
    "    df_sem_out.loc[outliers_index, 'conta.cobranca.Total'] /\n",
    "    df_sem_out.loc[outliers_index, 'conta.cobranca.mensal']\n",
    ")"
   ],
   "metadata": {
    "id": "ByHGR6lZB_eF",
    "ExecuteTime": {
     "end_time": "2023-12-27T23:33:24.247659700Z",
     "start_time": "2023-12-27T23:33:24.049463500Z"
    }
   },
   "execution_count": 15,
   "outputs": [
    {
     "ename": "NameError",
     "evalue": "name 'np' is not defined",
     "output_type": "error",
     "traceback": [
      "\u001B[1;31m---------------------------------------------------------------------------\u001B[0m",
      "\u001B[1;31mNameError\u001B[0m                                 Traceback (most recent call last)",
      "Cell \u001B[1;32mIn[15], line 1\u001B[0m\n\u001B[1;32m----> 1\u001B[0m df_sem_out\u001B[38;5;241m.\u001B[39mloc[outliers_index, \u001B[38;5;124m'\u001B[39m\u001B[38;5;124mcliente.tempo_servico\u001B[39m\u001B[38;5;124m'\u001B[39m] \u001B[38;5;241m=\u001B[39m np\u001B[38;5;241m.\u001B[39mceil(\n\u001B[0;32m      2\u001B[0m     df_sem_out\u001B[38;5;241m.\u001B[39mloc[outliers_index, \u001B[38;5;124m'\u001B[39m\u001B[38;5;124mconta.cobranca.Total\u001B[39m\u001B[38;5;124m'\u001B[39m] \u001B[38;5;241m/\u001B[39m\n\u001B[0;32m      3\u001B[0m     df_sem_out\u001B[38;5;241m.\u001B[39mloc[outliers_index, \u001B[38;5;124m'\u001B[39m\u001B[38;5;124mconta.cobranca.mensal\u001B[39m\u001B[38;5;124m'\u001B[39m]\n\u001B[0;32m      4\u001B[0m )\n",
      "\u001B[1;31mNameError\u001B[0m: name 'np' is not defined"
     ]
    }
   ]
  },
  {
   "cell_type": "code",
   "source": [
    "sns.boxplot(x=df_sem_out['cliente.tempo_servico'])"
   ],
   "metadata": {
    "colab": {
     "base_uri": "https://localhost:8080/",
     "height": 467
    },
    "id": "w-4lUob_CmNG",
    "outputId": "0f6113fc-fd9a-4c04-c658-3d319e3f758f",
    "ExecuteTime": {
     "start_time": "2023-12-27T23:33:24.203080700Z"
    }
   },
   "execution_count": 16,
   "outputs": [
    {
     "ename": "NameError",
     "evalue": "name 'df_sem_out' is not defined",
     "output_type": "error",
     "traceback": [
      "\u001B[1;31m---------------------------------------------------------------------------\u001B[0m",
      "\u001B[1;31mNameError\u001B[0m                                 Traceback (most recent call last)",
      "Cell \u001B[1;32mIn[16], line 1\u001B[0m\n\u001B[1;32m----> 1\u001B[0m sns\u001B[38;5;241m.\u001B[39mboxplot(x\u001B[38;5;241m=\u001B[39mdf_sem_out[\u001B[38;5;124m'\u001B[39m\u001B[38;5;124mcliente.tempo_servico\u001B[39m\u001B[38;5;124m'\u001B[39m])\n",
      "\u001B[1;31mNameError\u001B[0m: name 'df_sem_out' is not defined"
     ]
    }
   ]
  },
  {
   "cell_type": "code",
   "source": [
    "df_sem_out[outliers_index][['cliente.tempo_servico', 'conta.cobranca.mensal', 'conta.cobranca.Total']]"
   ],
   "metadata": {
    "colab": {
     "base_uri": "https://localhost:8080/",
     "height": 363
    },
    "id": "ukc_3DkGCzdF",
    "outputId": "4a4bd2b4-b480-4a07-9919-429b5b6291ed",
    "ExecuteTime": {
     "end_time": "2023-12-27T23:33:24.578740600Z",
     "start_time": "2023-12-27T23:33:24.461156600Z"
    }
   },
   "execution_count": 17,
   "outputs": [
    {
     "ename": "NameError",
     "evalue": "name 'df_sem_out' is not defined",
     "output_type": "error",
     "traceback": [
      "\u001B[1;31m---------------------------------------------------------------------------\u001B[0m",
      "\u001B[1;31mNameError\u001B[0m                                 Traceback (most recent call last)",
      "Cell \u001B[1;32mIn[17], line 1\u001B[0m\n\u001B[1;32m----> 1\u001B[0m df_sem_out[outliers_index][[\u001B[38;5;124m'\u001B[39m\u001B[38;5;124mcliente.tempo_servico\u001B[39m\u001B[38;5;124m'\u001B[39m, \u001B[38;5;124m'\u001B[39m\u001B[38;5;124mconta.cobranca.mensal\u001B[39m\u001B[38;5;124m'\u001B[39m, \u001B[38;5;124m'\u001B[39m\u001B[38;5;124mconta.cobranca.Total\u001B[39m\u001B[38;5;124m'\u001B[39m]]\n",
      "\u001B[1;31mNameError\u001B[0m: name 'df_sem_out' is not defined"
     ]
    }
   ]
  },
  {
   "cell_type": "markdown",
   "source": [
    "## Removendo outliers"
   ],
   "metadata": {
    "id": "LBDs-JUPL_Ux"
   }
  },
  {
   "cell_type": "code",
   "source": [
    "df_sem_out[outliers_index]['cliente.tempo_servico']"
   ],
   "metadata": {
    "colab": {
     "base_uri": "https://localhost:8080/"
    },
    "id": "mrVRJtyZO6os",
    "outputId": "c44b0bcd-7190-411c-aca9-4d0ffca820a1",
    "ExecuteTime": {
     "start_time": "2023-12-27T23:33:24.545601900Z"
    }
   },
   "execution_count": 18,
   "outputs": [
    {
     "ename": "NameError",
     "evalue": "name 'df_sem_out' is not defined",
     "output_type": "error",
     "traceback": [
      "\u001B[1;31m---------------------------------------------------------------------------\u001B[0m",
      "\u001B[1;31mNameError\u001B[0m                                 Traceback (most recent call last)",
      "Cell \u001B[1;32mIn[18], line 1\u001B[0m\n\u001B[1;32m----> 1\u001B[0m df_sem_out[outliers_index][\u001B[38;5;124m'\u001B[39m\u001B[38;5;124mcliente.tempo_servico\u001B[39m\u001B[38;5;124m'\u001B[39m]\n",
      "\u001B[1;31mNameError\u001B[0m: name 'df_sem_out' is not defined"
     ]
    }
   ]
  },
  {
   "cell_type": "code",
   "source": [
    "Q1 = df_sem_out['cliente.tempo_servico'].quantile(.25)\n",
    "Q3 = df_sem_out['cliente.tempo_servico'].quantile(.75)\n",
    "IQR = Q3-Q1\n",
    "limite_inferior = Q1 - 1.5*IQR\n",
    "limite_superior = Q3 + 1.5*IQR\n",
    "\n",
    "outliers_index = (df_sem_out['cliente.tempo_servico'] < limite_inferior) | (df_sem_out['cliente.tempo_servico'] > limite_superior)\n",
    "outliers_index"
   ],
   "metadata": {
    "colab": {
     "base_uri": "https://localhost:8080/"
    },
    "id": "IJ7ggx-PPyWh",
    "outputId": "60b21fdc-0c78-4b71-ee24-e3333b7c4145",
    "ExecuteTime": {
     "end_time": "2023-12-27T23:33:24.922893400Z",
     "start_time": "2023-12-27T23:33:24.736426600Z"
    }
   },
   "execution_count": 19,
   "outputs": [
    {
     "ename": "NameError",
     "evalue": "name 'df_sem_out' is not defined",
     "output_type": "error",
     "traceback": [
      "\u001B[1;31m---------------------------------------------------------------------------\u001B[0m",
      "\u001B[1;31mNameError\u001B[0m                                 Traceback (most recent call last)",
      "Cell \u001B[1;32mIn[19], line 1\u001B[0m\n\u001B[1;32m----> 1\u001B[0m Q1 \u001B[38;5;241m=\u001B[39m df_sem_out[\u001B[38;5;124m'\u001B[39m\u001B[38;5;124mcliente.tempo_servico\u001B[39m\u001B[38;5;124m'\u001B[39m]\u001B[38;5;241m.\u001B[39mquantile(\u001B[38;5;241m.25\u001B[39m)\n\u001B[0;32m      2\u001B[0m Q3 \u001B[38;5;241m=\u001B[39m df_sem_out[\u001B[38;5;124m'\u001B[39m\u001B[38;5;124mcliente.tempo_servico\u001B[39m\u001B[38;5;124m'\u001B[39m]\u001B[38;5;241m.\u001B[39mquantile(\u001B[38;5;241m.75\u001B[39m)\n\u001B[0;32m      3\u001B[0m IQR \u001B[38;5;241m=\u001B[39m Q3\u001B[38;5;241m-\u001B[39mQ1\n",
      "\u001B[1;31mNameError\u001B[0m: name 'df_sem_out' is not defined"
     ]
    }
   ]
  },
  {
   "cell_type": "code",
   "source": [
    "df_sem_out[outliers_index]"
   ],
   "metadata": {
    "colab": {
     "base_uri": "https://localhost:8080/",
     "height": 337
    },
    "id": "ME8sjoFiQMxa",
    "outputId": "3b8c19b7-7c6e-4171-c78b-709337223404",
    "ExecuteTime": {
     "start_time": "2023-12-27T23:33:24.860074200Z"
    }
   },
   "execution_count": 20,
   "outputs": [
    {
     "ename": "NameError",
     "evalue": "name 'df_sem_out' is not defined",
     "output_type": "error",
     "traceback": [
      "\u001B[1;31m---------------------------------------------------------------------------\u001B[0m",
      "\u001B[1;31mNameError\u001B[0m                                 Traceback (most recent call last)",
      "Cell \u001B[1;32mIn[20], line 1\u001B[0m\n\u001B[1;32m----> 1\u001B[0m df_sem_out[outliers_index]\n",
      "\u001B[1;31mNameError\u001B[0m: name 'df_sem_out' is not defined"
     ]
    }
   ]
  },
  {
   "cell_type": "code",
   "source": [
    "df_sem_out = df_sem_out[~outliers_index]\n",
    "df_sem_out"
   ],
   "metadata": {
    "colab": {
     "base_uri": "https://localhost:8080/",
     "height": 626
    },
    "id": "oN71eRXqQRKq",
    "outputId": "5a921d80-95f6-4df1-bd6d-374b6a4544c3",
    "ExecuteTime": {
     "end_time": "2023-12-27T23:33:25.212662500Z",
     "start_time": "2023-12-27T23:33:25.002423Z"
    }
   },
   "execution_count": 21,
   "outputs": [
    {
     "ename": "NameError",
     "evalue": "name 'df_sem_out' is not defined",
     "output_type": "error",
     "traceback": [
      "\u001B[1;31m---------------------------------------------------------------------------\u001B[0m",
      "\u001B[1;31mNameError\u001B[0m                                 Traceback (most recent call last)",
      "Cell \u001B[1;32mIn[21], line 1\u001B[0m\n\u001B[1;32m----> 1\u001B[0m df_sem_out \u001B[38;5;241m=\u001B[39m df_sem_out[\u001B[38;5;241m~\u001B[39moutliers_index]\n\u001B[0;32m      2\u001B[0m df_sem_out\n",
      "\u001B[1;31mNameError\u001B[0m: name 'df_sem_out' is not defined"
     ]
    }
   ]
  },
  {
   "cell_type": "code",
   "source": [
    "sns.boxplot(x=df_sem_out['cliente.tempo_servico'])"
   ],
   "metadata": {
    "colab": {
     "base_uri": "https://localhost:8080/",
     "height": 467
    },
    "id": "zDSbvQfEQixQ",
    "outputId": "b2b3a631-70ba-4ce6-f504-8f7a93562e0e",
    "ExecuteTime": {
     "start_time": "2023-12-27T23:33:25.192620800Z"
    }
   },
   "execution_count": 22,
   "outputs": [
    {
     "ename": "NameError",
     "evalue": "name 'df_sem_out' is not defined",
     "output_type": "error",
     "traceback": [
      "\u001B[1;31m---------------------------------------------------------------------------\u001B[0m",
      "\u001B[1;31mNameError\u001B[0m                                 Traceback (most recent call last)",
      "Cell \u001B[1;32mIn[22], line 1\u001B[0m\n\u001B[1;32m----> 1\u001B[0m sns\u001B[38;5;241m.\u001B[39mboxplot(x\u001B[38;5;241m=\u001B[39mdf_sem_out[\u001B[38;5;124m'\u001B[39m\u001B[38;5;124mcliente.tempo_servico\u001B[39m\u001B[38;5;124m'\u001B[39m])\n",
      "\u001B[1;31mNameError\u001B[0m: name 'df_sem_out' is not defined"
     ]
    }
   ]
  },
  {
   "cell_type": "code",
   "source": [
    "df_sem_out.reset_index(drop=True, inplace=True)"
   ],
   "metadata": {
    "id": "PQ9v5pPpQuYh",
    "ExecuteTime": {
     "end_time": "2023-12-27T23:33:25.433188800Z",
     "start_time": "2023-12-27T23:33:25.302188800Z"
    }
   },
   "execution_count": 23,
   "outputs": [
    {
     "ename": "NameError",
     "evalue": "name 'df_sem_out' is not defined",
     "output_type": "error",
     "traceback": [
      "\u001B[1;31m---------------------------------------------------------------------------\u001B[0m",
      "\u001B[1;31mNameError\u001B[0m                                 Traceback (most recent call last)",
      "Cell \u001B[1;32mIn[23], line 1\u001B[0m\n\u001B[1;32m----> 1\u001B[0m df_sem_out\u001B[38;5;241m.\u001B[39mreset_index(drop\u001B[38;5;241m=\u001B[39m\u001B[38;5;28;01mTrue\u001B[39;00m, inplace\u001B[38;5;241m=\u001B[39m\u001B[38;5;28;01mTrue\u001B[39;00m)\n",
      "\u001B[1;31mNameError\u001B[0m: name 'df_sem_out' is not defined"
     ]
    }
   ]
  },
  {
   "cell_type": "code",
   "source": [
    "df_sem_out"
   ],
   "metadata": {
    "colab": {
     "base_uri": "https://localhost:8080/",
     "height": 626
    },
    "id": "vQcOTUc0Q-ZP",
    "outputId": "8204c9bc-36b1-47e2-a3eb-7fa54dbf0fa0",
    "ExecuteTime": {
     "start_time": "2023-12-27T23:33:25.389834400Z"
    }
   },
   "execution_count": 24,
   "outputs": [
    {
     "ename": "NameError",
     "evalue": "name 'df_sem_out' is not defined",
     "output_type": "error",
     "traceback": [
      "\u001B[1;31m---------------------------------------------------------------------------\u001B[0m",
      "\u001B[1;31mNameError\u001B[0m                                 Traceback (most recent call last)",
      "Cell \u001B[1;32mIn[24], line 1\u001B[0m\n\u001B[1;32m----> 1\u001B[0m df_sem_out\n",
      "\u001B[1;31mNameError\u001B[0m: name 'df_sem_out' is not defined"
     ]
    }
   ]
  },
  {
   "cell_type": "markdown",
   "source": [
    "# Trabalhando com variáveis categóricas"
   ],
   "metadata": {
    "id": "a0ODUCIL1G8r"
   }
  },
  {
   "cell_type": "markdown",
   "source": [
    "## Substituindo valores"
   ],
   "metadata": {
    "id": "75g_GOW21LPi"
   }
  },
  {
   "cell_type": "code",
   "source": [
    "df_sem_id = df_sem_out.drop('id_cliente', axis=1).copy()\n",
    "df_sem_id"
   ],
   "metadata": {
    "colab": {
     "base_uri": "https://localhost:8080/",
     "height": 505
    },
    "id": "Ul-oolBlEUBk",
    "outputId": "8a256558-8657-41ee-cadc-223ce339f54c",
    "ExecuteTime": {
     "end_time": "2023-12-27T23:33:25.737221900Z",
     "start_time": "2023-12-27T23:33:25.507194600Z"
    }
   },
   "execution_count": 25,
   "outputs": [
    {
     "ename": "NameError",
     "evalue": "name 'df_sem_out' is not defined",
     "output_type": "error",
     "traceback": [
      "\u001B[1;31m---------------------------------------------------------------------------\u001B[0m",
      "\u001B[1;31mNameError\u001B[0m                                 Traceback (most recent call last)",
      "Cell \u001B[1;32mIn[25], line 1\u001B[0m\n\u001B[1;32m----> 1\u001B[0m df_sem_id \u001B[38;5;241m=\u001B[39m df_sem_out\u001B[38;5;241m.\u001B[39mdrop(\u001B[38;5;124m'\u001B[39m\u001B[38;5;124mid_cliente\u001B[39m\u001B[38;5;124m'\u001B[39m, axis\u001B[38;5;241m=\u001B[39m\u001B[38;5;241m1\u001B[39m)\u001B[38;5;241m.\u001B[39mcopy()\n\u001B[0;32m      2\u001B[0m df_sem_id\n",
      "\u001B[1;31mNameError\u001B[0m: name 'df_sem_out' is not defined"
     ]
    }
   ]
  },
  {
   "cell_type": "code",
   "source": [
    "mapeamento = {\n",
    "    'nao': 0,\n",
    "    'sim': 1,\n",
    "    'masculino': 0,\n",
    "    'feminino': 1\n",
    "}"
   ],
   "metadata": {
    "id": "lj8V4pEeG-yh",
    "ExecuteTime": {
     "end_time": "2023-12-27T23:33:25.800219800Z",
     "start_time": "2023-12-27T23:33:25.722172500Z"
    }
   },
   "execution_count": 26,
   "outputs": []
  },
  {
   "cell_type": "code",
   "source": [
    "for col in df_sem_id.columns:\n",
    "    print(f\"Coluna: {col}\")\n",
    "    print(df_sem_id[col].unique())\n",
    "    print(\"-\" * 30)"
   ],
   "metadata": {
    "colab": {
     "base_uri": "https://localhost:8080/"
    },
    "id": "d3hEhOWgHqvS",
    "outputId": "ef0dd366-b61b-498f-940a-0d70c0b4b916",
    "ExecuteTime": {
     "end_time": "2023-12-27T23:33:25.965594Z",
     "start_time": "2023-12-27T23:33:25.808221100Z"
    }
   },
   "execution_count": 27,
   "outputs": [
    {
     "ename": "NameError",
     "evalue": "name 'df_sem_id' is not defined",
     "output_type": "error",
     "traceback": [
      "\u001B[1;31m---------------------------------------------------------------------------\u001B[0m",
      "\u001B[1;31mNameError\u001B[0m                                 Traceback (most recent call last)",
      "Cell \u001B[1;32mIn[27], line 1\u001B[0m\n\u001B[1;32m----> 1\u001B[0m \u001B[38;5;28;01mfor\u001B[39;00m col \u001B[38;5;129;01min\u001B[39;00m df_sem_id\u001B[38;5;241m.\u001B[39mcolumns:\n\u001B[0;32m      2\u001B[0m     \u001B[38;5;28mprint\u001B[39m(\u001B[38;5;124mf\u001B[39m\u001B[38;5;124m\"\u001B[39m\u001B[38;5;124mColuna: \u001B[39m\u001B[38;5;132;01m{\u001B[39;00mcol\u001B[38;5;132;01m}\u001B[39;00m\u001B[38;5;124m\"\u001B[39m)\n\u001B[0;32m      3\u001B[0m     \u001B[38;5;28mprint\u001B[39m(df_sem_id[col]\u001B[38;5;241m.\u001B[39munique())\n",
      "\u001B[1;31mNameError\u001B[0m: name 'df_sem_id' is not defined"
     ]
    }
   ]
  },
  {
   "cell_type": "code",
   "source": [
    "colunas = ['telefone.servico_telefone', 'Churn', 'cliente.parceiro', 'cliente.dependentes', 'conta.faturamente_eletronico', 'cliente.genero']"
   ],
   "metadata": {
    "id": "vTwgLoj7IBr4",
    "ExecuteTime": {
     "end_time": "2023-12-27T23:33:27.924642Z",
     "start_time": "2023-12-27T23:33:25.947072200Z"
    }
   },
   "execution_count": 28,
   "outputs": []
  },
  {
   "cell_type": "code",
   "source": [
    "df_sem_id[colunas] = df_sem_id[colunas].replace(mapeamento)\n",
    "df_sem_id"
   ],
   "metadata": {
    "colab": {
     "base_uri": "https://localhost:8080/",
     "height": 505
    },
    "id": "FnbaE-gkIfrZ",
    "outputId": "f93ffca6-6132-40b7-ef32-5a6bb4f1717b",
    "ExecuteTime": {
     "end_time": "2023-12-27T23:33:28.465903800Z",
     "start_time": "2023-12-27T23:33:27.876979900Z"
    }
   },
   "execution_count": 29,
   "outputs": [
    {
     "ename": "NameError",
     "evalue": "name 'df_sem_id' is not defined",
     "output_type": "error",
     "traceback": [
      "\u001B[1;31m---------------------------------------------------------------------------\u001B[0m",
      "\u001B[1;31mNameError\u001B[0m                                 Traceback (most recent call last)",
      "Cell \u001B[1;32mIn[29], line 1\u001B[0m\n\u001B[1;32m----> 1\u001B[0m df_sem_id[colunas] \u001B[38;5;241m=\u001B[39m df_sem_id[colunas]\u001B[38;5;241m.\u001B[39mreplace(mapeamento)\n\u001B[0;32m      2\u001B[0m df_sem_id\n",
      "\u001B[1;31mNameError\u001B[0m: name 'df_sem_id' is not defined"
     ]
    }
   ]
  },
  {
   "cell_type": "code",
   "source": [
    "for col in df_sem_id.columns:\n",
    "    print(f\"Coluna: {col}\")\n",
    "    print(df_sem_id[col].unique())\n",
    "    print(\"-\" * 30)"
   ],
   "metadata": {
    "colab": {
     "base_uri": "https://localhost:8080/"
    },
    "id": "gdnHYYvbIsrZ",
    "outputId": "9df884bc-7a2b-4d2a-886e-f1ed380bf342",
    "ExecuteTime": {
     "start_time": "2023-12-27T23:33:28.403756100Z"
    }
   },
   "execution_count": 30,
   "outputs": [
    {
     "ename": "NameError",
     "evalue": "name 'df_sem_id' is not defined",
     "output_type": "error",
     "traceback": [
      "\u001B[1;31m---------------------------------------------------------------------------\u001B[0m",
      "\u001B[1;31mNameError\u001B[0m                                 Traceback (most recent call last)",
      "Cell \u001B[1;32mIn[30], line 1\u001B[0m\n\u001B[1;32m----> 1\u001B[0m \u001B[38;5;28;01mfor\u001B[39;00m col \u001B[38;5;129;01min\u001B[39;00m df_sem_id\u001B[38;5;241m.\u001B[39mcolumns:\n\u001B[0;32m      2\u001B[0m     \u001B[38;5;28mprint\u001B[39m(\u001B[38;5;124mf\u001B[39m\u001B[38;5;124m\"\u001B[39m\u001B[38;5;124mColuna: \u001B[39m\u001B[38;5;132;01m{\u001B[39;00mcol\u001B[38;5;132;01m}\u001B[39;00m\u001B[38;5;124m\"\u001B[39m)\n\u001B[0;32m      3\u001B[0m     \u001B[38;5;28mprint\u001B[39m(df_sem_id[col]\u001B[38;5;241m.\u001B[39munique())\n",
      "\u001B[1;31mNameError\u001B[0m: name 'df_sem_id' is not defined"
     ]
    }
   ]
  },
  {
   "cell_type": "markdown",
   "source": [
    "## One Hot Encoder (dummy)"
   ],
   "metadata": {
    "id": "3B0uQrgWM3Wo"
   }
  },
  {
   "cell_type": "code",
   "source": [
    "s = pd.Series(list('abca'))\n",
    "s"
   ],
   "metadata": {
    "colab": {
     "base_uri": "https://localhost:8080/"
    },
    "id": "KqhMALVcYPa6",
    "outputId": "25a2d879-c112-491f-f59a-7c52318559f1",
    "ExecuteTime": {
     "end_time": "2023-12-27T23:33:28.841041500Z",
     "start_time": "2023-12-27T23:33:28.561053Z"
    }
   },
   "execution_count": 31,
   "outputs": [
    {
     "data": {
      "text/plain": "0    a\n1    b\n2    c\n3    a\ndtype: object"
     },
     "execution_count": 31,
     "metadata": {},
     "output_type": "execute_result"
    }
   ]
  },
  {
   "cell_type": "code",
   "source": [
    "pd.get_dummies(s, dtype=int)"
   ],
   "metadata": {
    "colab": {
     "base_uri": "https://localhost:8080/",
     "height": 174
    },
    "id": "s3lcX1akTqMQ",
    "outputId": "75e4ebee-5151-4e26-eb40-2812fec72020",
    "ExecuteTime": {
     "end_time": "2023-12-27T23:33:29.101122900Z",
     "start_time": "2023-12-27T23:33:28.816333900Z"
    }
   },
   "execution_count": 32,
   "outputs": [
    {
     "data": {
      "text/plain": "   a  b  c\n0  1  0  0\n1  0  1  0\n2  0  0  1\n3  1  0  0",
      "text/html": "<div>\n<style scoped>\n    .dataframe tbody tr th:only-of-type {\n        vertical-align: middle;\n    }\n\n    .dataframe tbody tr th {\n        vertical-align: top;\n    }\n\n    .dataframe thead th {\n        text-align: right;\n    }\n</style>\n<table border=\"1\" class=\"dataframe\">\n  <thead>\n    <tr style=\"text-align: right;\">\n      <th></th>\n      <th>a</th>\n      <th>b</th>\n      <th>c</th>\n    </tr>\n  </thead>\n  <tbody>\n    <tr>\n      <th>0</th>\n      <td>1</td>\n      <td>0</td>\n      <td>0</td>\n    </tr>\n    <tr>\n      <th>1</th>\n      <td>0</td>\n      <td>1</td>\n      <td>0</td>\n    </tr>\n    <tr>\n      <th>2</th>\n      <td>0</td>\n      <td>0</td>\n      <td>1</td>\n    </tr>\n    <tr>\n      <th>3</th>\n      <td>1</td>\n      <td>0</td>\n      <td>0</td>\n    </tr>\n  </tbody>\n</table>\n</div>"
     },
     "execution_count": 32,
     "metadata": {},
     "output_type": "execute_result"
    }
   ]
  },
  {
   "cell_type": "code",
   "source": [
    "df_sem_id.info()"
   ],
   "metadata": {
    "colab": {
     "base_uri": "https://localhost:8080/"
    },
    "id": "mRNPdTfJIQ1_",
    "outputId": "9a1ef427-706a-4c5d-a530-2b7edde7af24",
    "ExecuteTime": {
     "end_time": "2023-12-27T23:33:29.280378600Z",
     "start_time": "2023-12-27T23:33:29.087123600Z"
    }
   },
   "execution_count": 33,
   "outputs": [
    {
     "ename": "NameError",
     "evalue": "name 'df_sem_id' is not defined",
     "output_type": "error",
     "traceback": [
      "\u001B[1;31m---------------------------------------------------------------------------\u001B[0m",
      "\u001B[1;31mNameError\u001B[0m                                 Traceback (most recent call last)",
      "Cell \u001B[1;32mIn[33], line 1\u001B[0m\n\u001B[1;32m----> 1\u001B[0m df_sem_id\u001B[38;5;241m.\u001B[39minfo()\n",
      "\u001B[1;31mNameError\u001B[0m: name 'df_sem_id' is not defined"
     ]
    }
   ]
  },
  {
   "cell_type": "code",
   "source": [
    "df_dummies = pd.get_dummies(df_sem_id, dtype=int).copy()\n",
    "df_dummies.head()"
   ],
   "metadata": {
    "colab": {
     "base_uri": "https://localhost:8080/",
     "height": 317
    },
    "id": "zJllTyeivUPk",
    "outputId": "59171ac1-ada8-4130-954d-f3a8e8d5d5c9",
    "ExecuteTime": {
     "start_time": "2023-12-27T23:33:29.229467400Z"
    }
   },
   "execution_count": 34,
   "outputs": [
    {
     "ename": "NameError",
     "evalue": "name 'df_sem_id' is not defined",
     "output_type": "error",
     "traceback": [
      "\u001B[1;31m---------------------------------------------------------------------------\u001B[0m",
      "\u001B[1;31mNameError\u001B[0m                                 Traceback (most recent call last)",
      "Cell \u001B[1;32mIn[34], line 1\u001B[0m\n\u001B[1;32m----> 1\u001B[0m df_dummies \u001B[38;5;241m=\u001B[39m pd\u001B[38;5;241m.\u001B[39mget_dummies(df_sem_id, dtype\u001B[38;5;241m=\u001B[39m\u001B[38;5;28mint\u001B[39m)\u001B[38;5;241m.\u001B[39mcopy()\n\u001B[0;32m      2\u001B[0m df_dummies\u001B[38;5;241m.\u001B[39mhead()\n",
      "\u001B[1;31mNameError\u001B[0m: name 'df_sem_id' is not defined"
     ]
    }
   ]
  },
  {
   "cell_type": "code",
   "source": [
    "df_dummies.columns"
   ],
   "metadata": {
    "colab": {
     "base_uri": "https://localhost:8080/"
    },
    "id": "Evjh8U8tvc_8",
    "outputId": "6e454e7b-b0b6-4607-80f4-04437ee184de",
    "ExecuteTime": {
     "end_time": "2023-12-27T23:33:29.633688300Z",
     "start_time": "2023-12-27T23:33:29.340920400Z"
    }
   },
   "execution_count": 35,
   "outputs": [
    {
     "ename": "NameError",
     "evalue": "name 'df_dummies' is not defined",
     "output_type": "error",
     "traceback": [
      "\u001B[1;31m---------------------------------------------------------------------------\u001B[0m",
      "\u001B[1;31mNameError\u001B[0m                                 Traceback (most recent call last)",
      "Cell \u001B[1;32mIn[35], line 1\u001B[0m\n\u001B[1;32m----> 1\u001B[0m df_dummies\u001B[38;5;241m.\u001B[39mcolumns\n",
      "\u001B[1;31mNameError\u001B[0m: name 'df_dummies' is not defined"
     ]
    }
   ]
  },
  {
   "cell_type": "code",
   "source": [
    "df_dummies.info()"
   ],
   "metadata": {
    "colab": {
     "base_uri": "https://localhost:8080/"
    },
    "id": "j_yzn5XPwOdT",
    "outputId": "3bfa1a96-3b86-4e81-e63c-d330f0ec9fc9",
    "ExecuteTime": {
     "start_time": "2023-12-27T23:33:29.624336Z"
    }
   },
   "execution_count": 36,
   "outputs": [
    {
     "ename": "NameError",
     "evalue": "name 'df_dummies' is not defined",
     "output_type": "error",
     "traceback": [
      "\u001B[1;31m---------------------------------------------------------------------------\u001B[0m",
      "\u001B[1;31mNameError\u001B[0m                                 Traceback (most recent call last)",
      "Cell \u001B[1;32mIn[36], line 1\u001B[0m\n\u001B[1;32m----> 1\u001B[0m df_dummies\u001B[38;5;241m.\u001B[39minfo()\n",
      "\u001B[1;31mNameError\u001B[0m: name 'df_dummies' is not defined"
     ]
    }
   ]
  },
  {
   "cell_type": "code",
   "source": [],
   "metadata": {
    "id": "yfIQJ72PwZHC",
    "ExecuteTime": {
     "end_time": "2023-12-27T23:33:29.887276100Z",
     "start_time": "2023-12-27T23:33:29.771218800Z"
    }
   },
   "execution_count": 36,
   "outputs": []
  }
 ]
}
